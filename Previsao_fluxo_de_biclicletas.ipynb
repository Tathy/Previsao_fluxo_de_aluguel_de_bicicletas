{
  "nbformat": 4,
  "nbformat_minor": 0,
  "metadata": {
    "colab": {
      "provenance": []
    },
    "kernelspec": {
      "name": "python3",
      "display_name": "Python 3"
    },
    "language_info": {
      "name": "python"
    }
  },
  "cells": [
    {
      "cell_type": "markdown",
      "source": [
        "# Previsão de fluxo de bicicletas"
      ],
      "metadata": {
        "id": "qK9Qi5k3LEVx"
      }
    },
    {
      "cell_type": "markdown",
      "source": [
        "* **Sobre:** O projeto consiste em uma previsão sobre o fluxo de aluguéis de bicicletas com base em características climáticas e se é final de semana ou feriado. As aplicações deste tipo de solução são semelhantes ao projeto anterior, sobre o fluxo de passageiros em um aeroporto: pode ser útil para escolher o momento certo para expansão de um negócio, saber quando a demanda de matéria prima e mão de obra será maior, quando fazer uma promoção ou captação ativa de clientes, e afins.\n",
        "\n",
        "* **Base de Dados:** Quantidade de bicicletas computadas em um determinada data e hora.\n",
        "\n",
        "* **Referências:** \n",
        "  * Estudo desenvolvido acompanhando o curso [Deep Learning: previsão com Keras](https://cursos.alura.com.br/course/deep-learning-previsao-keras), da Alura."
      ],
      "metadata": {
        "id": "mxuWK1KqLdE2"
      }
    },
    {
      "cell_type": "markdown",
      "source": [
        "## Abertura do Dataset"
      ],
      "metadata": {
        "id": "diUpvL98LvGa"
      }
    },
    {
      "cell_type": "code",
      "execution_count": 1,
      "metadata": {
        "id": "IA3AwU5lK9ti"
      },
      "outputs": [],
      "source": [
        "import pandas as pd"
      ]
    },
    {
      "cell_type": "code",
      "source": [
        "bike = pd.read_csv('https://raw.githubusercontent.com/alura-cursos/deeptime/aula4/bicicletas.csv')\n",
        "bike.head()"
      ],
      "metadata": {
        "colab": {
          "base_uri": "https://localhost:8080/",
          "height": 206
        },
        "id": "WsSX8FRMLC_f",
        "outputId": "ae994cf1-aff8-4ba4-96d2-4d6d2c9f3bec"
      },
      "execution_count": 2,
      "outputs": [
        {
          "output_type": "execute_result",
          "data": {
            "text/plain": [
              "                 datas  contagem  temperatura  sensacao  umidade  vel_vento  \\\n",
              "0  2015-01-04 00:00:00       182          3.0       2.0     93.0        6.0   \n",
              "1  2015-01-04 01:00:00       138          3.0       2.5     93.0        5.0   \n",
              "2  2015-01-04 02:00:00       134          2.5       2.5     96.5        0.0   \n",
              "3  2015-01-04 03:00:00        72          2.0       2.0    100.0        0.0   \n",
              "4  2015-01-04 04:00:00        47          2.0       0.0     93.0        6.5   \n",
              "\n",
              "   clima  feriado  final_ds  estacao  \n",
              "0    3.0      0.0       1.0      3.0  \n",
              "1    1.0      0.0       1.0      3.0  \n",
              "2    1.0      0.0       1.0      3.0  \n",
              "3    1.0      0.0       1.0      3.0  \n",
              "4    1.0      0.0       1.0      3.0  "
            ],
            "text/html": [
              "\n",
              "  <div id=\"df-99091551-d806-46a8-99d9-eeef4d3004b2\">\n",
              "    <div class=\"colab-df-container\">\n",
              "      <div>\n",
              "<style scoped>\n",
              "    .dataframe tbody tr th:only-of-type {\n",
              "        vertical-align: middle;\n",
              "    }\n",
              "\n",
              "    .dataframe tbody tr th {\n",
              "        vertical-align: top;\n",
              "    }\n",
              "\n",
              "    .dataframe thead th {\n",
              "        text-align: right;\n",
              "    }\n",
              "</style>\n",
              "<table border=\"1\" class=\"dataframe\">\n",
              "  <thead>\n",
              "    <tr style=\"text-align: right;\">\n",
              "      <th></th>\n",
              "      <th>datas</th>\n",
              "      <th>contagem</th>\n",
              "      <th>temperatura</th>\n",
              "      <th>sensacao</th>\n",
              "      <th>umidade</th>\n",
              "      <th>vel_vento</th>\n",
              "      <th>clima</th>\n",
              "      <th>feriado</th>\n",
              "      <th>final_ds</th>\n",
              "      <th>estacao</th>\n",
              "    </tr>\n",
              "  </thead>\n",
              "  <tbody>\n",
              "    <tr>\n",
              "      <th>0</th>\n",
              "      <td>2015-01-04 00:00:00</td>\n",
              "      <td>182</td>\n",
              "      <td>3.0</td>\n",
              "      <td>2.0</td>\n",
              "      <td>93.0</td>\n",
              "      <td>6.0</td>\n",
              "      <td>3.0</td>\n",
              "      <td>0.0</td>\n",
              "      <td>1.0</td>\n",
              "      <td>3.0</td>\n",
              "    </tr>\n",
              "    <tr>\n",
              "      <th>1</th>\n",
              "      <td>2015-01-04 01:00:00</td>\n",
              "      <td>138</td>\n",
              "      <td>3.0</td>\n",
              "      <td>2.5</td>\n",
              "      <td>93.0</td>\n",
              "      <td>5.0</td>\n",
              "      <td>1.0</td>\n",
              "      <td>0.0</td>\n",
              "      <td>1.0</td>\n",
              "      <td>3.0</td>\n",
              "    </tr>\n",
              "    <tr>\n",
              "      <th>2</th>\n",
              "      <td>2015-01-04 02:00:00</td>\n",
              "      <td>134</td>\n",
              "      <td>2.5</td>\n",
              "      <td>2.5</td>\n",
              "      <td>96.5</td>\n",
              "      <td>0.0</td>\n",
              "      <td>1.0</td>\n",
              "      <td>0.0</td>\n",
              "      <td>1.0</td>\n",
              "      <td>3.0</td>\n",
              "    </tr>\n",
              "    <tr>\n",
              "      <th>3</th>\n",
              "      <td>2015-01-04 03:00:00</td>\n",
              "      <td>72</td>\n",
              "      <td>2.0</td>\n",
              "      <td>2.0</td>\n",
              "      <td>100.0</td>\n",
              "      <td>0.0</td>\n",
              "      <td>1.0</td>\n",
              "      <td>0.0</td>\n",
              "      <td>1.0</td>\n",
              "      <td>3.0</td>\n",
              "    </tr>\n",
              "    <tr>\n",
              "      <th>4</th>\n",
              "      <td>2015-01-04 04:00:00</td>\n",
              "      <td>47</td>\n",
              "      <td>2.0</td>\n",
              "      <td>0.0</td>\n",
              "      <td>93.0</td>\n",
              "      <td>6.5</td>\n",
              "      <td>1.0</td>\n",
              "      <td>0.0</td>\n",
              "      <td>1.0</td>\n",
              "      <td>3.0</td>\n",
              "    </tr>\n",
              "  </tbody>\n",
              "</table>\n",
              "</div>\n",
              "      <button class=\"colab-df-convert\" onclick=\"convertToInteractive('df-99091551-d806-46a8-99d9-eeef4d3004b2')\"\n",
              "              title=\"Convert this dataframe to an interactive table.\"\n",
              "              style=\"display:none;\">\n",
              "        \n",
              "  <svg xmlns=\"http://www.w3.org/2000/svg\" height=\"24px\"viewBox=\"0 0 24 24\"\n",
              "       width=\"24px\">\n",
              "    <path d=\"M0 0h24v24H0V0z\" fill=\"none\"/>\n",
              "    <path d=\"M18.56 5.44l.94 2.06.94-2.06 2.06-.94-2.06-.94-.94-2.06-.94 2.06-2.06.94zm-11 1L8.5 8.5l.94-2.06 2.06-.94-2.06-.94L8.5 2.5l-.94 2.06-2.06.94zm10 10l.94 2.06.94-2.06 2.06-.94-2.06-.94-.94-2.06-.94 2.06-2.06.94z\"/><path d=\"M17.41 7.96l-1.37-1.37c-.4-.4-.92-.59-1.43-.59-.52 0-1.04.2-1.43.59L10.3 9.45l-7.72 7.72c-.78.78-.78 2.05 0 2.83L4 21.41c.39.39.9.59 1.41.59.51 0 1.02-.2 1.41-.59l7.78-7.78 2.81-2.81c.8-.78.8-2.07 0-2.86zM5.41 20L4 18.59l7.72-7.72 1.47 1.35L5.41 20z\"/>\n",
              "  </svg>\n",
              "      </button>\n",
              "      \n",
              "  <style>\n",
              "    .colab-df-container {\n",
              "      display:flex;\n",
              "      flex-wrap:wrap;\n",
              "      gap: 12px;\n",
              "    }\n",
              "\n",
              "    .colab-df-convert {\n",
              "      background-color: #E8F0FE;\n",
              "      border: none;\n",
              "      border-radius: 50%;\n",
              "      cursor: pointer;\n",
              "      display: none;\n",
              "      fill: #1967D2;\n",
              "      height: 32px;\n",
              "      padding: 0 0 0 0;\n",
              "      width: 32px;\n",
              "    }\n",
              "\n",
              "    .colab-df-convert:hover {\n",
              "      background-color: #E2EBFA;\n",
              "      box-shadow: 0px 1px 2px rgba(60, 64, 67, 0.3), 0px 1px 3px 1px rgba(60, 64, 67, 0.15);\n",
              "      fill: #174EA6;\n",
              "    }\n",
              "\n",
              "    [theme=dark] .colab-df-convert {\n",
              "      background-color: #3B4455;\n",
              "      fill: #D2E3FC;\n",
              "    }\n",
              "\n",
              "    [theme=dark] .colab-df-convert:hover {\n",
              "      background-color: #434B5C;\n",
              "      box-shadow: 0px 1px 3px 1px rgba(0, 0, 0, 0.15);\n",
              "      filter: drop-shadow(0px 1px 2px rgba(0, 0, 0, 0.3));\n",
              "      fill: #FFFFFF;\n",
              "    }\n",
              "  </style>\n",
              "\n",
              "      <script>\n",
              "        const buttonEl =\n",
              "          document.querySelector('#df-99091551-d806-46a8-99d9-eeef4d3004b2 button.colab-df-convert');\n",
              "        buttonEl.style.display =\n",
              "          google.colab.kernel.accessAllowed ? 'block' : 'none';\n",
              "\n",
              "        async function convertToInteractive(key) {\n",
              "          const element = document.querySelector('#df-99091551-d806-46a8-99d9-eeef4d3004b2');\n",
              "          const dataTable =\n",
              "            await google.colab.kernel.invokeFunction('convertToInteractive',\n",
              "                                                     [key], {});\n",
              "          if (!dataTable) return;\n",
              "\n",
              "          const docLinkHtml = 'Like what you see? Visit the ' +\n",
              "            '<a target=\"_blank\" href=https://colab.research.google.com/notebooks/data_table.ipynb>data table notebook</a>'\n",
              "            + ' to learn more about interactive tables.';\n",
              "          element.innerHTML = '';\n",
              "          dataTable['output_type'] = 'display_data';\n",
              "          await google.colab.output.renderOutput(dataTable, element);\n",
              "          const docLink = document.createElement('div');\n",
              "          docLink.innerHTML = docLinkHtml;\n",
              "          element.appendChild(docLink);\n",
              "        }\n",
              "      </script>\n",
              "    </div>\n",
              "  </div>\n",
              "  "
            ]
          },
          "metadata": {},
          "execution_count": 2
        }
      ]
    },
    {
      "cell_type": "code",
      "source": [
        "bike.info()"
      ],
      "metadata": {
        "colab": {
          "base_uri": "https://localhost:8080/"
        },
        "id": "qQrN0QhTLaUI",
        "outputId": "52685a5a-78cb-4099-bf04-db0013c9d5ab"
      },
      "execution_count": 3,
      "outputs": [
        {
          "output_type": "stream",
          "name": "stdout",
          "text": [
            "<class 'pandas.core.frame.DataFrame'>\n",
            "RangeIndex: 17414 entries, 0 to 17413\n",
            "Data columns (total 10 columns):\n",
            " #   Column       Non-Null Count  Dtype  \n",
            "---  ------       --------------  -----  \n",
            " 0   datas        17414 non-null  object \n",
            " 1   contagem     17414 non-null  int64  \n",
            " 2   temperatura  17414 non-null  float64\n",
            " 3   sensacao     17414 non-null  float64\n",
            " 4   umidade      17414 non-null  float64\n",
            " 5   vel_vento    17414 non-null  float64\n",
            " 6   clima        17414 non-null  float64\n",
            " 7   feriado      17414 non-null  float64\n",
            " 8   final_ds     17414 non-null  float64\n",
            " 9   estacao      17414 non-null  float64\n",
            "dtypes: float64(8), int64(1), object(1)\n",
            "memory usage: 1.3+ MB\n"
          ]
        }
      ]
    },
    {
      "cell_type": "markdown",
      "source": [
        "## Tratamentos e primeiras visualizações"
      ],
      "metadata": {
        "id": "MJhUcNHYhSs1"
      }
    },
    {
      "cell_type": "code",
      "source": [
        "bike['datas'] = pd.to_datetime(bike['datas'])"
      ],
      "metadata": {
        "id": "kXqkUs2OM1aP"
      },
      "execution_count": 4,
      "outputs": []
    },
    {
      "cell_type": "code",
      "source": [
        "import seaborn as sns\n",
        "import matplotlib.pyplot as plt\n",
        "\n",
        "sns.set_style(\"dark\")\n",
        "sns.set_palette(['#59b9df', '#3fc79c', '#c6a3fb', '#e7a567'])"
      ],
      "metadata": {
        "id": "HKo0H6HGhL7x"
      },
      "execution_count": 10,
      "outputs": []
    },
    {
      "cell_type": "code",
      "source": [
        "plt.figure(figsize = (12, 6))\n",
        "\n",
        "sns.lineplot(data = bike, x = 'datas', y = 'contagem')\n",
        "\n",
        "plt.xlabel('Datas', fontsize = 14)\n",
        "plt.ylabel('Contagem', fontsize = 14)\n",
        "plt.title('Quantidade de bicicletas alugadas ao longo do tempo', fontsize = 18)\n",
        "plt.grid(True)\n",
        "\n",
        "plt.show()"
      ],
      "metadata": {
        "colab": {
          "base_uri": "https://localhost:8080/",
          "height": 412
        },
        "id": "nI1BtJIshNkJ",
        "outputId": "b87781be-b55e-4f60-f028-b1a9d9f87331"
      },
      "execution_count": 12,
      "outputs": [
        {
          "output_type": "display_data",
          "data": {
            "text/plain": [
              "<Figure size 864x432 with 1 Axes>"
            ],
            "image/png": "[encoded data removed]"
          },
          "metadata": {}
        }
      ]
    },
    {
      "cell_type": "markdown",
      "source": [
        "### Escalonamento"
      ],
      "metadata": {
        "id": "wEloWnURi70m"
      }
    },
    {
      "cell_type": "markdown",
      "source": [
        "* Métodos de otimização baseados em Gradiente funcionam melhor com entradas escalonadas."
      ],
      "metadata": {
        "id": "ILTwg6Fqj271"
      }
    },
    {
      "cell_type": "code",
      "source": [
        "from sklearn.preprocessing import StandardScaler"
      ],
      "metadata": {
        "id": "dyWoSyvbhqtZ"
      },
      "execution_count": 13,
      "outputs": []
    },
    {
      "cell_type": "code",
      "source": [
        "sc = StandardScaler()\n",
        "sc.fit(bike['contagem'].values.reshape(-1,1))"
      ],
      "metadata": {
        "colab": {
          "base_uri": "https://localhost:8080/"
        },
        "id": "IWlf39NyjFWA",
        "outputId": "92d8da08-2a24-4b5f-af1c-5ad4d4e2295e"
      },
      "execution_count": 17,
      "outputs": [
        {
          "output_type": "execute_result",
          "data": {
            "text/plain": [
              "StandardScaler()"
            ]
          },
          "metadata": {},
          "execution_count": 17
        }
      ]
    },
    {
      "cell_type": "code",
      "source": [
        "y = sc.transform(bike['contagem'].values.reshape(-1,1))"
      ],
      "metadata": {
        "id": "TikSLpPWkNQf"
      },
      "execution_count": 18,
      "outputs": []
    },
    {
      "cell_type": "markdown",
      "source": [
        "## Divisão de conjuntos de treino e teste"
      ],
      "metadata": {
        "id": "NtEJeC5zk5R_"
      }
    },
    {
      "cell_type": "markdown",
      "source": [
        "### 90% dos dados serão para treino"
      ],
      "metadata": {
        "id": "J5haqnsImoUK"
      }
    },
    {
      "cell_type": "code",
      "source": [
        "tamanho_treino = int(len(bike)*0.9)\n",
        "tamanho_teste = len(bike) - tamanho_treino"
      ],
      "metadata": {
        "id": "C_MC5co6kpDo"
      },
      "execution_count": 19,
      "outputs": []
    },
    {
      "cell_type": "code",
      "source": [
        "y_train = y[:tamanho_treino]\n",
        "y_test = y[tamanho_treino:]"
      ],
      "metadata": {
        "id": "eTu4uvKnlDzZ"
      },
      "execution_count": 20,
      "outputs": []
    },
    {
      "cell_type": "code",
      "source": [
        "plt.figure(figsize = (12, 6))\n",
        "\n",
        "sns.lineplot(data = bike[:tamanho_treino], x = 'datas', y = y_train[:,0], label = 'Treino')\n",
        "sns.lineplot(data = bike[tamanho_treino:], x = 'datas', y = y_test[:,0], label = 'Teste')\n",
        "\n",
        "plt.xlabel('Datas', fontsize = 14)\n",
        "plt.ylabel('Contagem', fontsize = 14)\n",
        "plt.title('Quantidade de bicicletas alugadas ao longo do tempo', fontsize = 18)\n",
        "plt.grid(True)\n",
        "\n",
        "plt.show()"
      ],
      "metadata": {
        "colab": {
          "base_uri": "https://localhost:8080/",
          "height": 412
        },
        "id": "GPbtAnoWlP6w",
        "outputId": "d9e4f769-0b77-42ce-90f8-1527aebdf333"
      },
      "execution_count": 27,
      "outputs": [
        {
          "output_type": "display_data",
          "data": {
            "text/plain": [
              "<Figure size 864x432 with 1 Axes>"
            ],
            "image/png": "[encoded data removed]"
          },
          "metadata": {}
        }
      ]
    },
    {
      "cell_type": "code",
      "source": [
        "y_train[:,0]"
      ],
      "metadata": {
        "colab": {
          "base_uri": "https://localhost:8080/"
        },
        "id": "bwU0b3LqldBg",
        "outputId": "253d7c35-3cfa-4695-ca78-1602a1624b11"
      },
      "execution_count": 24,
      "outputs": [
        {
          "output_type": "execute_result",
          "data": {
            "text/plain": [
              "array([-0.88574518, -0.9262953 , -0.92998167, ..., -0.9548647 ,\n",
              "       -0.9548647 , -0.89403952])"
            ]
          },
          "metadata": {},
          "execution_count": 24
        }
      ]
    },
    {
      "cell_type": "markdown",
      "source": [
        "### Utilizando dados históricos de saída (10)"
      ],
      "metadata": {
        "id": "_XTD27oKmtt4"
      }
    },
    {
      "cell_type": "code",
      "source": [
        "import numpy as np"
      ],
      "metadata": {
        "id": "-EoMqVnQnAD4"
      },
      "execution_count": 30,
      "outputs": []
    },
    {
      "cell_type": "code",
      "source": [
        "def separa_dados(vetor, n_passos):\n",
        "  X_novo, y_novo = [], []\n",
        "\n",
        "  for i in range(n_passos, vetor.shape[0]):\n",
        "    X_novo.append(list(vetor.loc[i - n_passos : i-1]))\n",
        "    y_novo.append(vetor.loc[i])\n",
        "\n",
        "  X_novo, y_novo = np.array(X_novo), np.array(y_novo)\n",
        "\n",
        "  return X_novo, y_novo"
      ],
      "metadata": {
        "id": "i2h-o_meltuI"
      },
      "execution_count": 28,
      "outputs": []
    },
    {
      "cell_type": "code",
      "source": [
        "vetor = pd.DataFrame(y_train)[0]\n",
        "X_train, y_train = separa_dados(vetor, 10)"
      ],
      "metadata": {
        "id": "82DBtDCnm4e_"
      },
      "execution_count": 31,
      "outputs": []
    },
    {
      "cell_type": "code",
      "source": [
        "vetor2 = pd.DataFrame(y_test)[0]\n",
        "X_test, y_test = separa_dados(vetor, 10)"
      ],
      "metadata": {
        "id": "FcWY9ruAnUo4"
      },
      "execution_count": 36,
      "outputs": []
    },
    {
      "cell_type": "code",
      "source": [
        "X_train[:3]"
      ],
      "metadata": {
        "colab": {
          "base_uri": "https://localhost:8080/"
        },
        "id": "oTCsTdV1m-fA",
        "outputId": "847d52f2-f678-4581-e9d2-84883d0b58b1"
      },
      "execution_count": 34,
      "outputs": [
        {
          "output_type": "execute_result",
          "data": {
            "text/plain": [
              "array([[-0.88574518, -0.9262953 , -0.92998167, -0.98712048, -1.01016032,\n",
              "        -1.01108192, -1.00647395, -0.9843557 , -0.93274645, -0.77607553],\n",
              "       [-0.9262953 , -0.92998167, -0.98712048, -1.01016032, -1.01108192,\n",
              "        -1.00647395, -0.9843557 , -0.93274645, -0.77607553, -0.56687377],\n",
              "       [-0.92998167, -0.98712048, -1.01016032, -1.01108192, -1.00647395,\n",
              "        -0.9843557 , -0.93274645, -0.77607553, -0.56687377, -0.38347663]])"
            ]
          },
          "metadata": {},
          "execution_count": 34
        }
      ]
    },
    {
      "cell_type": "code",
      "source": [
        "y_train[:3]"
      ],
      "metadata": {
        "colab": {
          "base_uri": "https://localhost:8080/"
        },
        "id": "5IqP4R_vnQpY",
        "outputId": "dc819228-7ff4-4546-af11-30b40ef687bc"
      },
      "execution_count": 35,
      "outputs": [
        {
          "output_type": "execute_result",
          "data": {
            "text/plain": [
              "array([-0.56687377, -0.38347663, -0.25906149])"
            ]
          },
          "metadata": {},
          "execution_count": 35
        }
      ]
    },
    {
      "cell_type": "markdown",
      "source": [
        "# Redes Neurais Recorrentes"
      ],
      "metadata": {
        "id": "a0OZRxmwoEPN"
      }
    },
    {
      "cell_type": "markdown",
      "source": [
        "* Os métodos estudados anteriormente ([previsão de fluxo de clientes](https://colab.research.google.com/drive/1Lna_c5YRh7R7HjZQpWZKgwpneyMkqlbY?usp=sharing)) não conseguem \"entender\" o caráter sequencial das Séries Temporais, em que cada uma das informações está correlacionada.\n",
        "\n",
        "* Modelos Recorrentes costumam ser usadas em Séries Temporais e Textos (palavras ou caracteres).\n",
        "\n",
        "* É utilizada uma janela deslizante de um tamanho especificado. Os dados históricos são coletados no intervalo desta janela e adicionados à entrada da próxima iteração.\n",
        "\n",
        "* Recebe uma matriz tridimensional, em que a terceira dimensão define o número de atributos por passo no tempo."
      ],
      "metadata": {
        "id": "atqHufaNoHJV"
      }
    },
    {
      "cell_type": "markdown",
      "source": [
        "### Redimensionamento das entradas"
      ],
      "metadata": {
        "id": "pRay-iRzwqZe"
      }
    },
    {
      "cell_type": "code",
      "source": [
        "X_train = X_train.reshape((X_train.shape[0], X_train.shape[1], 1))\n",
        "X_test = X_test.reshape((X_test.shape[0], X_test.shape[1], 1))"
      ],
      "metadata": {
        "id": "HxShwG5InziH"
      },
      "execution_count": 49,
      "outputs": []
    },
    {
      "cell_type": "markdown",
      "source": [
        "## Definição da Rede"
      ],
      "metadata": {
        "id": "7cLi8hXC3rYy"
      }
    },
    {
      "cell_type": "markdown",
      "source": [
        "* **LSTM** (Long Short Term Memory)\n",
        "  * É usado em séries muito longas, uma rede neural recorrente comum não consegue lidar com padrões muito distantes da iteração corrente (históricos distantes)."
      ],
      "metadata": {
        "id": "_aHSftQj3-7z"
      }
    },
    {
      "cell_type": "code",
      "source": [
        "from keras.models import Sequential\n",
        "from keras.layers import Dense\n",
        "from keras.layers import LSTM"
      ],
      "metadata": {
        "id": "BnhlDXiy3ql_"
      },
      "execution_count": 50,
      "outputs": []
    },
    {
      "cell_type": "code",
      "source": [
        "recorrente = Sequential()\n",
        "\n",
        "recorrente.add(\n",
        "    LSTM(128, input_shape = (X_train.shape[1], X_train.shape[2]))\n",
        ")\n",
        "recorrente.add(\n",
        "    Dense(units = 1)\n",
        ")\n",
        "\n",
        "recorrente.compile(loss = 'mean_squared_error', optimizer = 'RMSProp')"
      ],
      "metadata": {
        "id": "FBCtViotw07N"
      },
      "execution_count": 52,
      "outputs": []
    },
    {
      "cell_type": "code",
      "source": [
        "recorrente.summary()"
      ],
      "metadata": {
        "colab": {
          "base_uri": "https://localhost:8080/"
        },
        "id": "9O-QCauD40-A",
        "outputId": "cc3a9774-e658-4d1d-e0b3-423c3c9a244e"
      },
      "execution_count": 53,
      "outputs": [
        {
          "output_type": "stream",
          "name": "stdout",
          "text": [
            "Model: \"sequential\"\n",
            "_________________________________________________________________\n",
            " Layer (type)                Output Shape              Param #   \n",
            "=================================================================\n",
            " lstm (LSTM)                 (None, 128)               66560     \n",
            "                                                                 \n",
            " dense (Dense)               (None, 1)                 129       \n",
            "                                                                 \n",
            "=================================================================\n",
            "Total params: 66,689\n",
            "Trainable params: 66,689\n",
            "Non-trainable params: 0\n",
            "_________________________________________________________________\n"
          ]
        }
      ]
    },
    {
      "cell_type": "code",
      "source": [],
      "metadata": {
        "id": "vtSfQo5541Lb"
      },
      "execution_count": null,
      "outputs": []
    }
  ]
}